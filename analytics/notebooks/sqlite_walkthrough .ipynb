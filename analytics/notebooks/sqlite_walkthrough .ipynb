{
 "cells": [
  {
   "cell_type": "code",
   "execution_count": 1,
   "metadata": {},
   "outputs": [],
   "source": [
    "import pandas as pd\n",
    "import sqlite3 as sql"
   ]
  },
  {
   "cell_type": "markdown",
   "metadata": {},
   "source": [
    "## Creating a connection to the weather.db database"
   ]
  },
  {
   "cell_type": "code",
   "execution_count": 3,
   "metadata": {},
   "outputs": [],
   "source": [
    "# Telling python what database to use\n",
    "\n",
    "conn = sql.connect('..//data//weather.db')\n",
    "\n",
    "# Activating the cursor, which will allow us to pass queries through sqlite and access the database directly\n",
    "\n",
    "cur = conn.cursor()"
   ]
  },
  {
   "cell_type": "markdown",
   "metadata": {},
   "source": [
    "## Checking what tables exist within a database"
   ]
  },
  {
   "cell_type": "code",
   "execution_count": 4,
   "metadata": {},
   "outputs": [],
   "source": [
    "# Execute tells the cursor to run the query provided\n",
    "\n",
    "cur.execute(\"SELECT name FROM sqlite_master WHERE type='table' ORDER BY name;\")\n",
    "\n",
    "# fetchall() allows us to see everything returned by our query, which we store in our 'available_tables' variable\n",
    "\n",
    "available_tables = (cur.fetchall())"
   ]
  },
  {
   "cell_type": "code",
   "execution_count": 5,
   "metadata": {},
   "outputs": [
    {
     "name": "stdout",
     "output_type": "stream",
     "text": [
      "[('Old',), ('weather2013',)]\n"
     ]
    }
   ],
   "source": [
    "print(available_tables)"
   ]
  },
  {
   "cell_type": "markdown",
   "metadata": {},
   "source": [
    "## Querying the 'weather2013' table"
   ]
  },
  {
   "cell_type": "code",
   "execution_count": 6,
   "metadata": {},
   "outputs": [],
   "source": [
    "# Let's check to see what our data looks like by selecting the first 5 rows\n",
    "\n",
    "cur.execute(\"SELECT * FROM weather2013 LIMIT 5;\")\n",
    "\n",
    "weather_data_2013 = (cur.fetchall())"
   ]
  },
  {
   "cell_type": "code",
   "execution_count": 7,
   "metadata": {},
   "outputs": [
    {
     "data": {
      "text/plain": [
       "list"
      ]
     },
     "execution_count": 7,
     "metadata": {},
     "output_type": "execute_result"
    }
   ],
   "source": [
    "# What is the type of weather_data_2013?\n",
    "\n",
    "type(weather_data_2013)"
   ]
  },
  {
   "cell_type": "code",
   "execution_count": 8,
   "metadata": {},
   "outputs": [
    {
     "data": {
      "text/plain": [
       "[('STATION',\n",
       "  'NAME',\n",
       "  'LATITUDE',\n",
       "  'LONGITUDE',\n",
       "  'ELEVATION',\n",
       "  'DATE',\n",
       "  'PRCP',\n",
       "  'TAVG'),\n",
       " ('US1TNCH0002',\n",
       "  'KINGSTON SPRINGS 0.3 ENE, TN US',\n",
       "  36.0984,\n",
       "  -87.0963,\n",
       "  177.1,\n",
       "  '1/1/13',\n",
       "  0.38,\n",
       "  ''),\n",
       " ('US1TNCH0002',\n",
       "  'KINGSTON SPRINGS 0.3 ENE, TN US',\n",
       "  36.0984,\n",
       "  -87.0963,\n",
       "  177.1,\n",
       "  '1/2/13',\n",
       "  0.08,\n",
       "  ''),\n",
       " ('US1TNCH0002',\n",
       "  'KINGSTON SPRINGS 0.3 ENE, TN US',\n",
       "  36.0984,\n",
       "  -87.0963,\n",
       "  177.1,\n",
       "  '1/3/13',\n",
       "  0.0,\n",
       "  ''),\n",
       " ('US1TNCH0002',\n",
       "  'KINGSTON SPRINGS 0.3 ENE, TN US',\n",
       "  36.0984,\n",
       "  -87.0963,\n",
       "  177.1,\n",
       "  '1/4/13',\n",
       "  0.0,\n",
       "  '')]"
      ]
     },
     "execution_count": 8,
     "metadata": {},
     "output_type": "execute_result"
    }
   ],
   "source": [
    "weather_data_2013"
   ]
  },
  {
   "cell_type": "markdown",
   "metadata": {},
   "source": [
    "## Using Pandas to place results into a DataFrame"
   ]
  },
  {
   "cell_type": "code",
   "execution_count": 9,
   "metadata": {},
   "outputs": [],
   "source": [
    "# Using the same query as before to select the first 5 rows from weather2013.db\n",
    "\n",
    "weather_2013_df = pd.read_sql_query(\"SELECT * FROM weather2013 LIMIT 5;\", conn)"
   ]
  },
  {
   "cell_type": "code",
   "execution_count": 10,
   "metadata": {},
   "outputs": [
    {
     "data": {
      "text/plain": [
       "pandas.core.frame.DataFrame"
      ]
     },
     "execution_count": 10,
     "metadata": {},
     "output_type": "execute_result"
    }
   ],
   "source": [
    "# Checking the type again\n",
    "\n",
    "type(weather_2013_df)"
   ]
  },
  {
   "cell_type": "code",
   "execution_count": 11,
   "metadata": {},
   "outputs": [
    {
     "data": {
      "text/html": [
       "<div>\n",
       "<style scoped>\n",
       "    .dataframe tbody tr th:only-of-type {\n",
       "        vertical-align: middle;\n",
       "    }\n",
       "\n",
       "    .dataframe tbody tr th {\n",
       "        vertical-align: top;\n",
       "    }\n",
       "\n",
       "    .dataframe thead th {\n",
       "        text-align: right;\n",
       "    }\n",
       "</style>\n",
       "<table border=\"1\" class=\"dataframe\">\n",
       "  <thead>\n",
       "    <tr style=\"text-align: right;\">\n",
       "      <th></th>\n",
       "      <th>station</th>\n",
       "      <th>name</th>\n",
       "      <th>lat</th>\n",
       "      <th>lng</th>\n",
       "      <th>elevation</th>\n",
       "      <th>date</th>\n",
       "      <th>precip</th>\n",
       "      <th>avg_temp</th>\n",
       "    </tr>\n",
       "  </thead>\n",
       "  <tbody>\n",
       "    <tr>\n",
       "      <th>0</th>\n",
       "      <td>STATION</td>\n",
       "      <td>NAME</td>\n",
       "      <td>LATITUDE</td>\n",
       "      <td>LONGITUDE</td>\n",
       "      <td>ELEVATION</td>\n",
       "      <td>DATE</td>\n",
       "      <td>PRCP</td>\n",
       "      <td>TAVG</td>\n",
       "    </tr>\n",
       "    <tr>\n",
       "      <th>1</th>\n",
       "      <td>US1TNCH0002</td>\n",
       "      <td>KINGSTON SPRINGS 0.3 ENE, TN US</td>\n",
       "      <td>36.0984</td>\n",
       "      <td>-87.0963</td>\n",
       "      <td>177.1</td>\n",
       "      <td>1/1/13</td>\n",
       "      <td>0.38</td>\n",
       "      <td></td>\n",
       "    </tr>\n",
       "    <tr>\n",
       "      <th>2</th>\n",
       "      <td>US1TNCH0002</td>\n",
       "      <td>KINGSTON SPRINGS 0.3 ENE, TN US</td>\n",
       "      <td>36.0984</td>\n",
       "      <td>-87.0963</td>\n",
       "      <td>177.1</td>\n",
       "      <td>1/2/13</td>\n",
       "      <td>0.08</td>\n",
       "      <td></td>\n",
       "    </tr>\n",
       "    <tr>\n",
       "      <th>3</th>\n",
       "      <td>US1TNCH0002</td>\n",
       "      <td>KINGSTON SPRINGS 0.3 ENE, TN US</td>\n",
       "      <td>36.0984</td>\n",
       "      <td>-87.0963</td>\n",
       "      <td>177.1</td>\n",
       "      <td>1/3/13</td>\n",
       "      <td>0</td>\n",
       "      <td></td>\n",
       "    </tr>\n",
       "    <tr>\n",
       "      <th>4</th>\n",
       "      <td>US1TNCH0002</td>\n",
       "      <td>KINGSTON SPRINGS 0.3 ENE, TN US</td>\n",
       "      <td>36.0984</td>\n",
       "      <td>-87.0963</td>\n",
       "      <td>177.1</td>\n",
       "      <td>1/4/13</td>\n",
       "      <td>0</td>\n",
       "      <td></td>\n",
       "    </tr>\n",
       "  </tbody>\n",
       "</table>\n",
       "</div>"
      ],
      "text/plain": [
       "       station                             name       lat        lng  \\\n",
       "0      STATION                             NAME  LATITUDE  LONGITUDE   \n",
       "1  US1TNCH0002  KINGSTON SPRINGS 0.3 ENE, TN US   36.0984   -87.0963   \n",
       "2  US1TNCH0002  KINGSTON SPRINGS 0.3 ENE, TN US   36.0984   -87.0963   \n",
       "3  US1TNCH0002  KINGSTON SPRINGS 0.3 ENE, TN US   36.0984   -87.0963   \n",
       "4  US1TNCH0002  KINGSTON SPRINGS 0.3 ENE, TN US   36.0984   -87.0963   \n",
       "\n",
       "   elevation    date precip avg_temp  \n",
       "0  ELEVATION    DATE   PRCP     TAVG  \n",
       "1      177.1  1/1/13   0.38           \n",
       "2      177.1  1/2/13   0.08           \n",
       "3      177.1  1/3/13      0           \n",
       "4      177.1  1/4/13      0           "
      ]
     },
     "execution_count": 11,
     "metadata": {},
     "output_type": "execute_result"
    }
   ],
   "source": [
    "weather_2013_df.head()"
   ]
  },
  {
   "cell_type": "code",
   "execution_count": 12,
   "metadata": {},
   "outputs": [
    {
     "data": {
      "text/html": [
       "<div>\n",
       "<style scoped>\n",
       "    .dataframe tbody tr th:only-of-type {\n",
       "        vertical-align: middle;\n",
       "    }\n",
       "\n",
       "    .dataframe tbody tr th {\n",
       "        vertical-align: top;\n",
       "    }\n",
       "\n",
       "    .dataframe thead th {\n",
       "        text-align: right;\n",
       "    }\n",
       "</style>\n",
       "<table border=\"1\" class=\"dataframe\">\n",
       "  <thead>\n",
       "    <tr style=\"text-align: right;\">\n",
       "      <th></th>\n",
       "      <th>station</th>\n",
       "      <th>name</th>\n",
       "      <th>lat</th>\n",
       "      <th>lng</th>\n",
       "      <th>elevation</th>\n",
       "      <th>date</th>\n",
       "      <th>precip</th>\n",
       "      <th>avg_temp</th>\n",
       "    </tr>\n",
       "  </thead>\n",
       "  <tbody>\n",
       "    <tr>\n",
       "      <th>1</th>\n",
       "      <td>US1TNCH0002</td>\n",
       "      <td>KINGSTON SPRINGS 0.3 ENE, TN US</td>\n",
       "      <td>36.0984</td>\n",
       "      <td>-87.0963</td>\n",
       "      <td>177.1</td>\n",
       "      <td>1/1/13</td>\n",
       "      <td>0.38</td>\n",
       "      <td></td>\n",
       "    </tr>\n",
       "    <tr>\n",
       "      <th>2</th>\n",
       "      <td>US1TNCH0002</td>\n",
       "      <td>KINGSTON SPRINGS 0.3 ENE, TN US</td>\n",
       "      <td>36.0984</td>\n",
       "      <td>-87.0963</td>\n",
       "      <td>177.1</td>\n",
       "      <td>1/2/13</td>\n",
       "      <td>0.08</td>\n",
       "      <td></td>\n",
       "    </tr>\n",
       "    <tr>\n",
       "      <th>3</th>\n",
       "      <td>US1TNCH0002</td>\n",
       "      <td>KINGSTON SPRINGS 0.3 ENE, TN US</td>\n",
       "      <td>36.0984</td>\n",
       "      <td>-87.0963</td>\n",
       "      <td>177.1</td>\n",
       "      <td>1/3/13</td>\n",
       "      <td>0</td>\n",
       "      <td></td>\n",
       "    </tr>\n",
       "    <tr>\n",
       "      <th>4</th>\n",
       "      <td>US1TNCH0002</td>\n",
       "      <td>KINGSTON SPRINGS 0.3 ENE, TN US</td>\n",
       "      <td>36.0984</td>\n",
       "      <td>-87.0963</td>\n",
       "      <td>177.1</td>\n",
       "      <td>1/4/13</td>\n",
       "      <td>0</td>\n",
       "      <td></td>\n",
       "    </tr>\n",
       "  </tbody>\n",
       "</table>\n",
       "</div>"
      ],
      "text/plain": [
       "       station                             name      lat      lng elevation  \\\n",
       "1  US1TNCH0002  KINGSTON SPRINGS 0.3 ENE, TN US  36.0984 -87.0963     177.1   \n",
       "2  US1TNCH0002  KINGSTON SPRINGS 0.3 ENE, TN US  36.0984 -87.0963     177.1   \n",
       "3  US1TNCH0002  KINGSTON SPRINGS 0.3 ENE, TN US  36.0984 -87.0963     177.1   \n",
       "4  US1TNCH0002  KINGSTON SPRINGS 0.3 ENE, TN US  36.0984 -87.0963     177.1   \n",
       "\n",
       "     date precip avg_temp  \n",
       "1  1/1/13   0.38           \n",
       "2  1/2/13   0.08           \n",
       "3  1/3/13      0           \n",
       "4  1/4/13      0           "
      ]
     },
     "execution_count": 12,
     "metadata": {},
     "output_type": "execute_result"
    }
   ],
   "source": [
    "# Drop the first row that has undesired column headers\n",
    "\n",
    "weather_2013_df.drop([0,]).head()\n",
    "# weather_2013_df = weather_2013_df.drop([0,])"
   ]
  },
  {
   "cell_type": "code",
   "execution_count": 13,
   "metadata": {},
   "outputs": [],
   "source": [
    "# Whenever you drop a row, remember to reset the index!\n",
    "\n",
    "weather_2013_df = weather_2013_df.reset_index(drop = True)"
   ]
  },
  {
   "cell_type": "code",
   "execution_count": 14,
   "metadata": {},
   "outputs": [
    {
     "data": {
      "text/html": [
       "<div>\n",
       "<style scoped>\n",
       "    .dataframe tbody tr th:only-of-type {\n",
       "        vertical-align: middle;\n",
       "    }\n",
       "\n",
       "    .dataframe tbody tr th {\n",
       "        vertical-align: top;\n",
       "    }\n",
       "\n",
       "    .dataframe thead th {\n",
       "        text-align: right;\n",
       "    }\n",
       "</style>\n",
       "<table border=\"1\" class=\"dataframe\">\n",
       "  <thead>\n",
       "    <tr style=\"text-align: right;\">\n",
       "      <th></th>\n",
       "      <th>station</th>\n",
       "      <th>name</th>\n",
       "      <th>lat</th>\n",
       "      <th>lng</th>\n",
       "      <th>elevation</th>\n",
       "      <th>date</th>\n",
       "      <th>precip</th>\n",
       "      <th>avg_temp</th>\n",
       "    </tr>\n",
       "  </thead>\n",
       "  <tbody>\n",
       "    <tr>\n",
       "      <th>0</th>\n",
       "      <td>STATION</td>\n",
       "      <td>NAME</td>\n",
       "      <td>LATITUDE</td>\n",
       "      <td>LONGITUDE</td>\n",
       "      <td>ELEVATION</td>\n",
       "      <td>DATE</td>\n",
       "      <td>PRCP</td>\n",
       "      <td>TAVG</td>\n",
       "    </tr>\n",
       "    <tr>\n",
       "      <th>1</th>\n",
       "      <td>US1TNCH0002</td>\n",
       "      <td>KINGSTON SPRINGS 0.3 ENE, TN US</td>\n",
       "      <td>36.0984</td>\n",
       "      <td>-87.0963</td>\n",
       "      <td>177.1</td>\n",
       "      <td>1/1/13</td>\n",
       "      <td>0.38</td>\n",
       "      <td></td>\n",
       "    </tr>\n",
       "    <tr>\n",
       "      <th>2</th>\n",
       "      <td>US1TNCH0002</td>\n",
       "      <td>KINGSTON SPRINGS 0.3 ENE, TN US</td>\n",
       "      <td>36.0984</td>\n",
       "      <td>-87.0963</td>\n",
       "      <td>177.1</td>\n",
       "      <td>1/2/13</td>\n",
       "      <td>0.08</td>\n",
       "      <td></td>\n",
       "    </tr>\n",
       "    <tr>\n",
       "      <th>3</th>\n",
       "      <td>US1TNCH0002</td>\n",
       "      <td>KINGSTON SPRINGS 0.3 ENE, TN US</td>\n",
       "      <td>36.0984</td>\n",
       "      <td>-87.0963</td>\n",
       "      <td>177.1</td>\n",
       "      <td>1/3/13</td>\n",
       "      <td>0</td>\n",
       "      <td></td>\n",
       "    </tr>\n",
       "    <tr>\n",
       "      <th>4</th>\n",
       "      <td>US1TNCH0002</td>\n",
       "      <td>KINGSTON SPRINGS 0.3 ENE, TN US</td>\n",
       "      <td>36.0984</td>\n",
       "      <td>-87.0963</td>\n",
       "      <td>177.1</td>\n",
       "      <td>1/4/13</td>\n",
       "      <td>0</td>\n",
       "      <td></td>\n",
       "    </tr>\n",
       "  </tbody>\n",
       "</table>\n",
       "</div>"
      ],
      "text/plain": [
       "       station                             name       lat        lng  \\\n",
       "0      STATION                             NAME  LATITUDE  LONGITUDE   \n",
       "1  US1TNCH0002  KINGSTON SPRINGS 0.3 ENE, TN US   36.0984   -87.0963   \n",
       "2  US1TNCH0002  KINGSTON SPRINGS 0.3 ENE, TN US   36.0984   -87.0963   \n",
       "3  US1TNCH0002  KINGSTON SPRINGS 0.3 ENE, TN US   36.0984   -87.0963   \n",
       "4  US1TNCH0002  KINGSTON SPRINGS 0.3 ENE, TN US   36.0984   -87.0963   \n",
       "\n",
       "   elevation    date precip avg_temp  \n",
       "0  ELEVATION    DATE   PRCP     TAVG  \n",
       "1      177.1  1/1/13   0.38           \n",
       "2      177.1  1/2/13   0.08           \n",
       "3      177.1  1/3/13      0           \n",
       "4      177.1  1/4/13      0           "
      ]
     },
     "execution_count": 14,
     "metadata": {},
     "output_type": "execute_result"
    }
   ],
   "source": [
    "weather_2013_df.head()"
   ]
  },
  {
   "cell_type": "markdown",
   "metadata": {},
   "source": [
    "## Example of a query using the WHERE clause"
   ]
  },
  {
   "cell_type": "code",
   "execution_count": 15,
   "metadata": {},
   "outputs": [],
   "source": [
    "# This time, we'll query weather2013 to find the dates where the percipitation was greater than 1\n",
    "\n",
    "high_perc_2013_df = pd.read_sql_query(\"SELECT * FROM weather2013 WHERE precip > 1;\", conn)\n",
    "high_perc_2013_df = high_perc_2013_df.drop([0,])\n",
    "high_perc_2013_df = high_perc_2013_df.reset_index(drop = True)"
   ]
  },
  {
   "cell_type": "code",
   "execution_count": 16,
   "metadata": {},
   "outputs": [
    {
     "data": {
      "text/html": [
       "<div>\n",
       "<style scoped>\n",
       "    .dataframe tbody tr th:only-of-type {\n",
       "        vertical-align: middle;\n",
       "    }\n",
       "\n",
       "    .dataframe tbody tr th {\n",
       "        vertical-align: top;\n",
       "    }\n",
       "\n",
       "    .dataframe thead th {\n",
       "        text-align: right;\n",
       "    }\n",
       "</style>\n",
       "<table border=\"1\" class=\"dataframe\">\n",
       "  <thead>\n",
       "    <tr style=\"text-align: right;\">\n",
       "      <th></th>\n",
       "      <th>station</th>\n",
       "      <th>name</th>\n",
       "      <th>lat</th>\n",
       "      <th>lng</th>\n",
       "      <th>elevation</th>\n",
       "      <th>date</th>\n",
       "      <th>precip</th>\n",
       "      <th>avg_temp</th>\n",
       "    </tr>\n",
       "  </thead>\n",
       "  <tbody>\n",
       "    <tr>\n",
       "      <th>0</th>\n",
       "      <td>US1TNCH0002</td>\n",
       "      <td>KINGSTON SPRINGS 0.3 ENE, TN US</td>\n",
       "      <td>36.0984</td>\n",
       "      <td>-87.0963</td>\n",
       "      <td>177.1</td>\n",
       "      <td>1/10/13</td>\n",
       "      <td>1.28</td>\n",
       "      <td></td>\n",
       "    </tr>\n",
       "    <tr>\n",
       "      <th>1</th>\n",
       "      <td>US1TNCH0002</td>\n",
       "      <td>KINGSTON SPRINGS 0.3 ENE, TN US</td>\n",
       "      <td>36.0984</td>\n",
       "      <td>-87.0963</td>\n",
       "      <td>177.1</td>\n",
       "      <td>1/14/13</td>\n",
       "      <td>2.93</td>\n",
       "      <td></td>\n",
       "    </tr>\n",
       "    <tr>\n",
       "      <th>2</th>\n",
       "      <td>US1TNCH0002</td>\n",
       "      <td>KINGSTON SPRINGS 0.3 ENE, TN US</td>\n",
       "      <td>36.0984</td>\n",
       "      <td>-87.0963</td>\n",
       "      <td>177.1</td>\n",
       "      <td>3/6/13</td>\n",
       "      <td>1.03</td>\n",
       "      <td></td>\n",
       "    </tr>\n",
       "    <tr>\n",
       "      <th>3</th>\n",
       "      <td>US1TNCH0002</td>\n",
       "      <td>KINGSTON SPRINGS 0.3 ENE, TN US</td>\n",
       "      <td>36.0984</td>\n",
       "      <td>-87.0963</td>\n",
       "      <td>177.1</td>\n",
       "      <td>3/11/13</td>\n",
       "      <td>1.19</td>\n",
       "      <td></td>\n",
       "    </tr>\n",
       "    <tr>\n",
       "      <th>4</th>\n",
       "      <td>US1TNCH0002</td>\n",
       "      <td>KINGSTON SPRINGS 0.3 ENE, TN US</td>\n",
       "      <td>36.0984</td>\n",
       "      <td>-87.0963</td>\n",
       "      <td>177.1</td>\n",
       "      <td>3/19/13</td>\n",
       "      <td>1.05</td>\n",
       "      <td></td>\n",
       "    </tr>\n",
       "  </tbody>\n",
       "</table>\n",
       "</div>"
      ],
      "text/plain": [
       "       station                             name      lat      lng elevation  \\\n",
       "0  US1TNCH0002  KINGSTON SPRINGS 0.3 ENE, TN US  36.0984 -87.0963     177.1   \n",
       "1  US1TNCH0002  KINGSTON SPRINGS 0.3 ENE, TN US  36.0984 -87.0963     177.1   \n",
       "2  US1TNCH0002  KINGSTON SPRINGS 0.3 ENE, TN US  36.0984 -87.0963     177.1   \n",
       "3  US1TNCH0002  KINGSTON SPRINGS 0.3 ENE, TN US  36.0984 -87.0963     177.1   \n",
       "4  US1TNCH0002  KINGSTON SPRINGS 0.3 ENE, TN US  36.0984 -87.0963     177.1   \n",
       "\n",
       "      date precip avg_temp  \n",
       "0  1/10/13   1.28           \n",
       "1  1/14/13   2.93           \n",
       "2   3/6/13   1.03           \n",
       "3  3/11/13   1.19           \n",
       "4  3/19/13   1.05           "
      ]
     },
     "execution_count": 16,
     "metadata": {},
     "output_type": "execute_result"
    }
   ],
   "source": [
    "high_perc_2013_df.head()"
   ]
  },
  {
   "cell_type": "markdown",
   "metadata": {},
   "source": [
    "## Example of a query using the BETWEEN clause"
   ]
  },
  {
   "cell_type": "code",
   "execution_count": 17,
   "metadata": {},
   "outputs": [],
   "source": [
    "# This time, we'll query weather2013 to find the dates where the percipitation was between 0.2 and 0.5\n",
    "\n",
    "mid_perc_2013_df = pd.read_sql_query(\"SELECT * FROM weather2013 WHERE precip BETWEEN 0.2 AND 0.5;\", conn)\n",
    "mid_perc_2013_df = mid_perc_2013_df.drop([0,])\n",
    "mid_perc_2013_df = mid_perc_2013_df.reset_index(drop = True)"
   ]
  },
  {
   "cell_type": "code",
   "execution_count": 18,
   "metadata": {},
   "outputs": [
    {
     "data": {
      "text/html": [
       "<div>\n",
       "<style scoped>\n",
       "    .dataframe tbody tr th:only-of-type {\n",
       "        vertical-align: middle;\n",
       "    }\n",
       "\n",
       "    .dataframe tbody tr th {\n",
       "        vertical-align: top;\n",
       "    }\n",
       "\n",
       "    .dataframe thead th {\n",
       "        text-align: right;\n",
       "    }\n",
       "</style>\n",
       "<table border=\"1\" class=\"dataframe\">\n",
       "  <thead>\n",
       "    <tr style=\"text-align: right;\">\n",
       "      <th></th>\n",
       "      <th>station</th>\n",
       "      <th>name</th>\n",
       "      <th>lat</th>\n",
       "      <th>lng</th>\n",
       "      <th>elevation</th>\n",
       "      <th>date</th>\n",
       "      <th>precip</th>\n",
       "      <th>avg_temp</th>\n",
       "    </tr>\n",
       "  </thead>\n",
       "  <tbody>\n",
       "    <tr>\n",
       "      <th>0</th>\n",
       "      <td>US1TNCH0002</td>\n",
       "      <td>KINGSTON SPRINGS 0.3 ENE, TN US</td>\n",
       "      <td>36.0984</td>\n",
       "      <td>-87.0963</td>\n",
       "      <td>177.1</td>\n",
       "      <td>1/12/13</td>\n",
       "      <td>0.21</td>\n",
       "      <td></td>\n",
       "    </tr>\n",
       "    <tr>\n",
       "      <th>1</th>\n",
       "      <td>US1TNCH0002</td>\n",
       "      <td>KINGSTON SPRINGS 0.3 ENE, TN US</td>\n",
       "      <td>36.0984</td>\n",
       "      <td>-87.0963</td>\n",
       "      <td>177.1</td>\n",
       "      <td>2/13/13</td>\n",
       "      <td>0.20</td>\n",
       "      <td></td>\n",
       "    </tr>\n",
       "    <tr>\n",
       "      <th>2</th>\n",
       "      <td>US1TNCH0002</td>\n",
       "      <td>KINGSTON SPRINGS 0.3 ENE, TN US</td>\n",
       "      <td>36.0984</td>\n",
       "      <td>-87.0963</td>\n",
       "      <td>177.1</td>\n",
       "      <td>2/26/13</td>\n",
       "      <td>0.24</td>\n",
       "      <td></td>\n",
       "    </tr>\n",
       "    <tr>\n",
       "      <th>3</th>\n",
       "      <td>US1TNCH0002</td>\n",
       "      <td>KINGSTON SPRINGS 0.3 ENE, TN US</td>\n",
       "      <td>36.0984</td>\n",
       "      <td>-87.0963</td>\n",
       "      <td>177.1</td>\n",
       "      <td>3/12/13</td>\n",
       "      <td>0.37</td>\n",
       "      <td></td>\n",
       "    </tr>\n",
       "    <tr>\n",
       "      <th>4</th>\n",
       "      <td>US1TNCH0002</td>\n",
       "      <td>KINGSTON SPRINGS 0.3 ENE, TN US</td>\n",
       "      <td>36.0984</td>\n",
       "      <td>-87.0963</td>\n",
       "      <td>177.1</td>\n",
       "      <td>3/15/13</td>\n",
       "      <td>0.23</td>\n",
       "      <td></td>\n",
       "    </tr>\n",
       "  </tbody>\n",
       "</table>\n",
       "</div>"
      ],
      "text/plain": [
       "       station                             name      lat      lng  elevation  \\\n",
       "0  US1TNCH0002  KINGSTON SPRINGS 0.3 ENE, TN US  36.0984 -87.0963      177.1   \n",
       "1  US1TNCH0002  KINGSTON SPRINGS 0.3 ENE, TN US  36.0984 -87.0963      177.1   \n",
       "2  US1TNCH0002  KINGSTON SPRINGS 0.3 ENE, TN US  36.0984 -87.0963      177.1   \n",
       "3  US1TNCH0002  KINGSTON SPRINGS 0.3 ENE, TN US  36.0984 -87.0963      177.1   \n",
       "4  US1TNCH0002  KINGSTON SPRINGS 0.3 ENE, TN US  36.0984 -87.0963      177.1   \n",
       "\n",
       "      date  precip avg_temp  \n",
       "0  1/12/13    0.21           \n",
       "1  2/13/13    0.20           \n",
       "2  2/26/13    0.24           \n",
       "3  3/12/13    0.37           \n",
       "4  3/15/13    0.23           "
      ]
     },
     "execution_count": 18,
     "metadata": {},
     "output_type": "execute_result"
    }
   ],
   "source": [
    "mid_perc_2013_df.head()"
   ]
  },
  {
   "cell_type": "markdown",
   "metadata": {},
   "source": [
    "## Same example, but using the ORDER BY to sort on percipitation"
   ]
  },
  {
   "cell_type": "code",
   "execution_count": 19,
   "metadata": {},
   "outputs": [],
   "source": [
    "# Using ASC or DESC to specify how to order the desired column - Is ASC or DESC used by default?\n",
    "\n",
    "mid_perc_2013_df = pd.read_sql_query(\"SELECT * FROM weather2013 WHERE precip BETWEEN 0.2 AND 0.5 ORDER BY precip;\", conn)\n",
    "mid_perc_2013_df = mid_perc_2013_df.drop([0,])\n",
    "mid_perc_2013_df = mid_perc_2013_df.reset_index(drop = True)"
   ]
  },
  {
   "cell_type": "code",
   "execution_count": 20,
   "metadata": {},
   "outputs": [
    {
     "data": {
      "text/html": [
       "<div>\n",
       "<style scoped>\n",
       "    .dataframe tbody tr th:only-of-type {\n",
       "        vertical-align: middle;\n",
       "    }\n",
       "\n",
       "    .dataframe tbody tr th {\n",
       "        vertical-align: top;\n",
       "    }\n",
       "\n",
       "    .dataframe thead th {\n",
       "        text-align: right;\n",
       "    }\n",
       "</style>\n",
       "<table border=\"1\" class=\"dataframe\">\n",
       "  <thead>\n",
       "    <tr style=\"text-align: right;\">\n",
       "      <th></th>\n",
       "      <th>station</th>\n",
       "      <th>name</th>\n",
       "      <th>lat</th>\n",
       "      <th>lng</th>\n",
       "      <th>elevation</th>\n",
       "      <th>date</th>\n",
       "      <th>precip</th>\n",
       "      <th>avg_temp</th>\n",
       "    </tr>\n",
       "  </thead>\n",
       "  <tbody>\n",
       "    <tr>\n",
       "      <th>0</th>\n",
       "      <td>US1TNCH0002</td>\n",
       "      <td>KINGSTON SPRINGS 0.3 ENE, TN US</td>\n",
       "      <td>36.0984</td>\n",
       "      <td>-87.0963</td>\n",
       "      <td>177.1</td>\n",
       "      <td>7/19/13</td>\n",
       "      <td>0.2</td>\n",
       "      <td></td>\n",
       "    </tr>\n",
       "    <tr>\n",
       "      <th>1</th>\n",
       "      <td>US1TNCH0001</td>\n",
       "      <td>ASHLAND CITY 5.6 ENE, TN US</td>\n",
       "      <td>36.3060</td>\n",
       "      <td>-86.9660</td>\n",
       "      <td>232.9</td>\n",
       "      <td>3/24/13</td>\n",
       "      <td>0.2</td>\n",
       "      <td></td>\n",
       "    </tr>\n",
       "    <tr>\n",
       "      <th>2</th>\n",
       "      <td>US1TNCH0001</td>\n",
       "      <td>ASHLAND CITY 5.6 ENE, TN US</td>\n",
       "      <td>36.3060</td>\n",
       "      <td>-86.9660</td>\n",
       "      <td>232.9</td>\n",
       "      <td>4/1/13</td>\n",
       "      <td>0.2</td>\n",
       "      <td></td>\n",
       "    </tr>\n",
       "    <tr>\n",
       "      <th>3</th>\n",
       "      <td>US1TNCH0001</td>\n",
       "      <td>ASHLAND CITY 5.6 ENE, TN US</td>\n",
       "      <td>36.3060</td>\n",
       "      <td>-86.9660</td>\n",
       "      <td>232.9</td>\n",
       "      <td>7/4/13</td>\n",
       "      <td>0.2</td>\n",
       "      <td></td>\n",
       "    </tr>\n",
       "    <tr>\n",
       "      <th>4</th>\n",
       "      <td>USC00403280</td>\n",
       "      <td>FRANKLIN SEWAGE PLANT, TN US</td>\n",
       "      <td>35.9417</td>\n",
       "      <td>-86.8685</td>\n",
       "      <td>199.6</td>\n",
       "      <td>2/26/13</td>\n",
       "      <td>0.2</td>\n",
       "      <td></td>\n",
       "    </tr>\n",
       "  </tbody>\n",
       "</table>\n",
       "</div>"
      ],
      "text/plain": [
       "       station                             name      lat      lng  elevation  \\\n",
       "0  US1TNCH0002  KINGSTON SPRINGS 0.3 ENE, TN US  36.0984 -87.0963      177.1   \n",
       "1  US1TNCH0001      ASHLAND CITY 5.6 ENE, TN US  36.3060 -86.9660      232.9   \n",
       "2  US1TNCH0001      ASHLAND CITY 5.6 ENE, TN US  36.3060 -86.9660      232.9   \n",
       "3  US1TNCH0001      ASHLAND CITY 5.6 ENE, TN US  36.3060 -86.9660      232.9   \n",
       "4  USC00403280     FRANKLIN SEWAGE PLANT, TN US  35.9417 -86.8685      199.6   \n",
       "\n",
       "      date  precip avg_temp  \n",
       "0  7/19/13     0.2           \n",
       "1  3/24/13     0.2           \n",
       "2   4/1/13     0.2           \n",
       "3   7/4/13     0.2           \n",
       "4  2/26/13     0.2           "
      ]
     },
     "execution_count": 20,
     "metadata": {},
     "output_type": "execute_result"
    }
   ],
   "source": [
    "mid_perc_2013_df.head()"
   ]
  },
  {
   "cell_type": "markdown",
   "metadata": {},
   "source": [
    "## Best Practice - Close connections after use to prevent the tables from being locked"
   ]
  },
  {
   "cell_type": "code",
   "execution_count": 21,
   "metadata": {},
   "outputs": [],
   "source": [
    "cur.close()\n",
    "conn.close()"
   ]
  },
  {
   "cell_type": "code",
   "execution_count": null,
   "metadata": {},
   "outputs": [],
   "source": []
  }
 ],
 "metadata": {
  "kernelspec": {
   "display_name": "Python 3",
   "language": "python",
   "name": "python3"
  },
  "language_info": {
   "codemirror_mode": {
    "name": "ipython",
    "version": 3
   },
   "file_extension": ".py",
   "mimetype": "text/x-python",
   "name": "python",
   "nbconvert_exporter": "python",
   "pygments_lexer": "ipython3",
   "version": "3.6.4"
  }
 },
 "nbformat": 4,
 "nbformat_minor": 2
}

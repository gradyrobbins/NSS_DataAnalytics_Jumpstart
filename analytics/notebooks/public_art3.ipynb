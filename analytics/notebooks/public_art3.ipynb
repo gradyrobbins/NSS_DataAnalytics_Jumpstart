{
 "cells": [
  {
   "cell_type": "code",
   "execution_count": 1,
   "metadata": {},
   "outputs": [],
   "source": [
    "import pandas as pd\n",
    "import matplotlib.pyplot as plt\n",
    "import seaborn as sns\n",
    "\n",
    "%matplotlib inline"
   ]
  },
  {
   "cell_type": "markdown",
   "metadata": {},
   "source": [
    "### Read in the public art data and examine the shape, head, and tail"
   ]
  },
  {
   "cell_type": "code",
   "execution_count": 2,
   "metadata": {},
   "outputs": [
    {
     "data": {
      "text/html": [
       "<div>\n",
       "<style scoped>\n",
       "    .dataframe tbody tr th:only-of-type {\n",
       "        vertical-align: middle;\n",
       "    }\n",
       "\n",
       "    .dataframe tbody tr th {\n",
       "        vertical-align: top;\n",
       "    }\n",
       "\n",
       "    .dataframe thead th {\n",
       "        text-align: right;\n",
       "    }\n",
       "</style>\n",
       "<table border=\"1\" class=\"dataframe\">\n",
       "  <thead>\n",
       "    <tr style=\"text-align: right;\">\n",
       "      <th></th>\n",
       "      <th>Title</th>\n",
       "      <th>Last Name</th>\n",
       "      <th>First Name</th>\n",
       "      <th>Location</th>\n",
       "      <th>Medium</th>\n",
       "      <th>Type</th>\n",
       "      <th>Description</th>\n",
       "      <th>Latitude</th>\n",
       "      <th>Longitude</th>\n",
       "      <th>Mapped Location</th>\n",
       "    </tr>\n",
       "  </thead>\n",
       "  <tbody>\n",
       "    <tr>\n",
       "      <th>0</th>\n",
       "      <td>[Cross Country Runners]</td>\n",
       "      <td>Frost</td>\n",
       "      <td>Miley</td>\n",
       "      <td>4001 Harding Rd., Nashville TN</td>\n",
       "      <td>Bronze</td>\n",
       "      <td>Sculpture</td>\n",
       "      <td>NaN</td>\n",
       "      <td>36.12856</td>\n",
       "      <td>-86.83660</td>\n",
       "      <td>(36.12856, -86.8366)</td>\n",
       "    </tr>\n",
       "    <tr>\n",
       "      <th>1</th>\n",
       "      <td>[Fourth and Commerce Sculpture]</td>\n",
       "      <td>Walker</td>\n",
       "      <td>Lin</td>\n",
       "      <td>333 Commerce Street, Nashville TN</td>\n",
       "      <td>NaN</td>\n",
       "      <td>Sculpture</td>\n",
       "      <td>NaN</td>\n",
       "      <td>36.16234</td>\n",
       "      <td>-86.77774</td>\n",
       "      <td>(36.16234, -86.77774)</td>\n",
       "    </tr>\n",
       "  </tbody>\n",
       "</table>\n",
       "</div>"
      ],
      "text/plain": [
       "                             Title Last Name First Name  \\\n",
       "0          [Cross Country Runners]     Frost      Miley   \n",
       "1  [Fourth and Commerce Sculpture]    Walker        Lin   \n",
       "\n",
       "                            Location  Medium       Type Description  Latitude  \\\n",
       "0     4001 Harding Rd., Nashville TN  Bronze  Sculpture         NaN  36.12856   \n",
       "1  333 Commerce Street, Nashville TN     NaN  Sculpture         NaN  36.16234   \n",
       "\n",
       "   Longitude        Mapped Location  \n",
       "0  -86.83660   (36.12856, -86.8366)  \n",
       "1  -86.77774  (36.16234, -86.77774)  "
      ]
     },
     "execution_count": 2,
     "metadata": {},
     "output_type": "execute_result"
    }
   ],
   "source": [
    "art = pd.read_csv('../data/public_art.csv')\n",
    "art.head(2)"
   ]
  },
  {
   "cell_type": "code",
   "execution_count": 3,
   "metadata": {},
   "outputs": [
    {
     "data": {
      "text/html": [
       "<div>\n",
       "<style scoped>\n",
       "    .dataframe tbody tr th:only-of-type {\n",
       "        vertical-align: middle;\n",
       "    }\n",
       "\n",
       "    .dataframe tbody tr th {\n",
       "        vertical-align: top;\n",
       "    }\n",
       "\n",
       "    .dataframe thead th {\n",
       "        text-align: right;\n",
       "    }\n",
       "</style>\n",
       "<table border=\"1\" class=\"dataframe\">\n",
       "  <thead>\n",
       "    <tr style=\"text-align: right;\">\n",
       "      <th></th>\n",
       "      <th>Title</th>\n",
       "      <th>Last Name</th>\n",
       "      <th>First Name</th>\n",
       "      <th>Location</th>\n",
       "      <th>Medium</th>\n",
       "      <th>Type</th>\n",
       "      <th>Description</th>\n",
       "      <th>Latitude</th>\n",
       "      <th>Longitude</th>\n",
       "      <th>Mapped Location</th>\n",
       "    </tr>\n",
       "  </thead>\n",
       "  <tbody>\n",
       "    <tr>\n",
       "      <th>130</th>\n",
       "      <td>Women Suffrage Memorial</td>\n",
       "      <td>LeQuire</td>\n",
       "      <td>Alan</td>\n",
       "      <td>600 Charlotte Avenue, Nashville TN</td>\n",
       "      <td>Bronze sculpture</td>\n",
       "      <td>Sculpture</td>\n",
       "      <td>NaN</td>\n",
       "      <td>36.16527</td>\n",
       "      <td>-86.78382</td>\n",
       "      <td>(36.16527, -86.78382)</td>\n",
       "    </tr>\n",
       "    <tr>\n",
       "      <th>131</th>\n",
       "      <td>Youth Opportunity Center-STARS Nashville - Pea...</td>\n",
       "      <td>Rudloff</td>\n",
       "      <td>Andee</td>\n",
       "      <td>1704 Charlotte Ave.</td>\n",
       "      <td>House paint on vinyl</td>\n",
       "      <td>Mural</td>\n",
       "      <td>NaN</td>\n",
       "      <td>36.15896</td>\n",
       "      <td>-86.79900</td>\n",
       "      <td>(36.15896, -86.799)</td>\n",
       "    </tr>\n",
       "  </tbody>\n",
       "</table>\n",
       "</div>"
      ],
      "text/plain": [
       "                                                 Title Last Name First Name  \\\n",
       "130                            Women Suffrage Memorial   LeQuire       Alan   \n",
       "131  Youth Opportunity Center-STARS Nashville - Pea...   Rudloff      Andee   \n",
       "\n",
       "                               Location                Medium       Type  \\\n",
       "130  600 Charlotte Avenue, Nashville TN      Bronze sculpture  Sculpture   \n",
       "131                 1704 Charlotte Ave.  House paint on vinyl      Mural   \n",
       "\n",
       "    Description  Latitude  Longitude        Mapped Location  \n",
       "130         NaN  36.16527  -86.78382  (36.16527, -86.78382)  \n",
       "131         NaN  36.15896  -86.79900    (36.15896, -86.799)  "
      ]
     },
     "execution_count": 3,
     "metadata": {},
     "output_type": "execute_result"
    }
   ],
   "source": [
    "art.tail(2)"
   ]
  },
  {
   "cell_type": "code",
   "execution_count": 4,
   "metadata": {},
   "outputs": [
    {
     "data": {
      "text/plain": [
       "(132, 10)"
      ]
     },
     "execution_count": 4,
     "metadata": {},
     "output_type": "execute_result"
    }
   ],
   "source": [
    "art.shape"
   ]
  },
  {
   "cell_type": "markdown",
   "metadata": {},
   "source": [
    "### Let's explore these pandas methods, attributes, and accessors\n",
    " * .shape\n",
    " - .head()\n",
    " * .tail()\n",
    " - .columns\n",
    " - .drop()\n",
    " - .rename()\n",
    " - .query()\n",
    " - .loc[]\n",
    " - .iloc[]\n",
    " - [[]]"
   ]
  },
  {
   "cell_type": "code",
   "execution_count": 5,
   "metadata": {},
   "outputs": [
    {
     "data": {
      "text/plain": [
       "Index(['Title', 'Last Name', 'First Name', 'Location', 'Medium', 'Type',\n",
       "       'Description', 'Latitude', 'Longitude', 'Mapped Location'],\n",
       "      dtype='object')"
      ]
     },
     "execution_count": 5,
     "metadata": {},
     "output_type": "execute_result"
    }
   ],
   "source": [
    "art.columns"
   ]
  },
  {
   "cell_type": "code",
   "execution_count": 6,
   "metadata": {},
   "outputs": [
    {
     "data": {
      "text/plain": [
       "(61, 10)"
      ]
     },
     "execution_count": 6,
     "metadata": {},
     "output_type": "execute_result"
    }
   ],
   "source": [
    "sculptures = art.query('Type == \"Sculpture\"')\n",
    "sculptures.shape"
   ]
  },
  {
   "cell_type": "code",
   "execution_count": 7,
   "metadata": {},
   "outputs": [
    {
     "data": {
      "text/plain": [
       "(99, 10)"
      ]
     },
     "execution_count": 7,
     "metadata": {},
     "output_type": "execute_result"
    }
   ],
   "source": [
    "my_list = ['Sculpture', 'Mural']\n",
    "sculptures_and_murals = art.query(\"Type in @my_list\")\n",
    "sculptures_and_murals.shape"
   ]
  },
  {
   "cell_type": "code",
   "execution_count": 8,
   "metadata": {},
   "outputs": [],
   "source": [
    "#art.loc[art.Type == 'Sculpture']\n",
    "first_five = art.iloc[0:5, 1:3]"
   ]
  },
  {
   "cell_type": "code",
   "execution_count": 9,
   "metadata": {},
   "outputs": [
    {
     "data": {
      "text/html": [
       "<div>\n",
       "<style scoped>\n",
       "    .dataframe tbody tr th:only-of-type {\n",
       "        vertical-align: middle;\n",
       "    }\n",
       "\n",
       "    .dataframe tbody tr th {\n",
       "        vertical-align: top;\n",
       "    }\n",
       "\n",
       "    .dataframe thead th {\n",
       "        text-align: right;\n",
       "    }\n",
       "</style>\n",
       "<table border=\"1\" class=\"dataframe\">\n",
       "  <thead>\n",
       "    <tr style=\"text-align: right;\">\n",
       "      <th></th>\n",
       "      <th>Last Name</th>\n",
       "      <th>First Name</th>\n",
       "    </tr>\n",
       "  </thead>\n",
       "  <tbody>\n",
       "    <tr>\n",
       "      <th>0</th>\n",
       "      <td>Frost</td>\n",
       "      <td>Miley</td>\n",
       "    </tr>\n",
       "    <tr>\n",
       "      <th>1</th>\n",
       "      <td>Walker</td>\n",
       "      <td>Lin</td>\n",
       "    </tr>\n",
       "    <tr>\n",
       "      <th>2</th>\n",
       "      <td>Kennedy</td>\n",
       "      <td>Kim</td>\n",
       "    </tr>\n",
       "    <tr>\n",
       "      <th>3</th>\n",
       "      <td>Stevenson and Stanley and ROFF (Harroff)</td>\n",
       "      <td>Doug and Ronnica and Lynn</td>\n",
       "    </tr>\n",
       "    <tr>\n",
       "      <th>4</th>\n",
       "      <td>Ridley</td>\n",
       "      <td>Greg</td>\n",
       "    </tr>\n",
       "  </tbody>\n",
       "</table>\n",
       "</div>"
      ],
      "text/plain": [
       "                                  Last Name                 First Name\n",
       "0                                     Frost                      Miley\n",
       "1                                    Walker                        Lin\n",
       "2                                   Kennedy                        Kim\n",
       "3  Stevenson and Stanley and ROFF (Harroff)  Doug and Ronnica and Lynn\n",
       "4                                    Ridley                       Greg"
      ]
     },
     "execution_count": 9,
     "metadata": {},
     "output_type": "execute_result"
    }
   ],
   "source": [
    "first_five"
   ]
  },
  {
   "cell_type": "code",
   "execution_count": 10,
   "metadata": {},
   "outputs": [
    {
     "data": {
      "text/html": [
       "<div>\n",
       "<style scoped>\n",
       "    .dataframe tbody tr th:only-of-type {\n",
       "        vertical-align: middle;\n",
       "    }\n",
       "\n",
       "    .dataframe tbody tr th {\n",
       "        vertical-align: top;\n",
       "    }\n",
       "\n",
       "    .dataframe thead th {\n",
       "        text-align: right;\n",
       "    }\n",
       "</style>\n",
       "<table border=\"1\" class=\"dataframe\">\n",
       "  <thead>\n",
       "    <tr style=\"text-align: right;\">\n",
       "      <th></th>\n",
       "      <th>Last Name</th>\n",
       "      <th>First Name</th>\n",
       "    </tr>\n",
       "  </thead>\n",
       "  <tbody>\n",
       "    <tr>\n",
       "      <th>0</th>\n",
       "      <td>Frost</td>\n",
       "      <td>Miley</td>\n",
       "    </tr>\n",
       "    <tr>\n",
       "      <th>1</th>\n",
       "      <td>Walker</td>\n",
       "      <td>Lin</td>\n",
       "    </tr>\n",
       "  </tbody>\n",
       "</table>\n",
       "</div>"
      ],
      "text/plain": [
       "  Last Name First Name\n",
       "0     Frost      Miley\n",
       "1    Walker        Lin"
      ]
     },
     "execution_count": 10,
     "metadata": {},
     "output_type": "execute_result"
    }
   ],
   "source": [
    "artists = art[['Last Name', 'First Name']]\n",
    "artists.head(2)"
   ]
  },
  {
   "cell_type": "code",
   "execution_count": 11,
   "metadata": {},
   "outputs": [],
   "source": [
    "art = art.drop(columns = ['Mapped Location'])"
   ]
  },
  {
   "cell_type": "code",
   "execution_count": 12,
   "metadata": {},
   "outputs": [
    {
     "data": {
      "text/plain": [
       "Index(['Title', 'Last Name', 'First Name', 'Location', 'Medium', 'Type',\n",
       "       'Description', 'Latitude', 'Longitude'],\n",
       "      dtype='object')"
      ]
     },
     "execution_count": 12,
     "metadata": {},
     "output_type": "execute_result"
    }
   ],
   "source": [
    "art.columns"
   ]
  },
  {
   "cell_type": "code",
   "execution_count": 13,
   "metadata": {},
   "outputs": [],
   "source": [
    "art.columns = ['title', 'last', 'first', 'loc', 'med',\n",
    "              'type', 'desc', 'lat', 'lng']"
   ]
  },
  {
   "cell_type": "code",
   "execution_count": 14,
   "metadata": {},
   "outputs": [],
   "source": [
    "art = art.rename(columns = {'Title': 'title', 'Last Name': 'last_name', 'First Name': 'first_name',\n",
    "           'Location': 'loc', 'Medium': 'medium',  \n",
    "            'Desccription': 'desc', 'Latiitude': 'lat', 'Longitude': 'lng'})"
   ]
  },
  {
   "cell_type": "markdown",
   "metadata": {},
   "source": [
    "### More exploration with pandas\n",
    " - .value_counts()\n",
    " - .to_frame()\n",
    " - .reset_index()\n",
    " - .describe()\n",
    " - .info()\n",
    " - .isnull.sum()"
   ]
  },
  {
   "cell_type": "markdown",
   "metadata": {},
   "source": [
    "#### matplotlib - https://matplotlib.org/api/_as_gen/matplotlib.pyplot.plot.html#examples-using-matplotlib-pyplot-plot\n"
   ]
  },
  {
   "cell_type": "code",
   "execution_count": 15,
   "metadata": {},
   "outputs": [
    {
     "data": {
      "text/html": [
       "<div>\n",
       "<style scoped>\n",
       "    .dataframe tbody tr th:only-of-type {\n",
       "        vertical-align: middle;\n",
       "    }\n",
       "\n",
       "    .dataframe tbody tr th {\n",
       "        vertical-align: top;\n",
       "    }\n",
       "\n",
       "    .dataframe thead th {\n",
       "        text-align: right;\n",
       "    }\n",
       "</style>\n",
       "<table border=\"1\" class=\"dataframe\">\n",
       "  <thead>\n",
       "    <tr style=\"text-align: right;\">\n",
       "      <th></th>\n",
       "      <th>title</th>\n",
       "      <th>last</th>\n",
       "      <th>first</th>\n",
       "      <th>loc</th>\n",
       "      <th>med</th>\n",
       "      <th>type</th>\n",
       "      <th>desc</th>\n",
       "      <th>lat</th>\n",
       "      <th>lng</th>\n",
       "    </tr>\n",
       "  </thead>\n",
       "  <tbody>\n",
       "    <tr>\n",
       "      <th>0</th>\n",
       "      <td>[Cross Country Runners]</td>\n",
       "      <td>Frost</td>\n",
       "      <td>Miley</td>\n",
       "      <td>4001 Harding Rd., Nashville TN</td>\n",
       "      <td>Bronze</td>\n",
       "      <td>Sculpture</td>\n",
       "      <td>NaN</td>\n",
       "      <td>36.12856</td>\n",
       "      <td>-86.83660</td>\n",
       "    </tr>\n",
       "    <tr>\n",
       "      <th>1</th>\n",
       "      <td>[Fourth and Commerce Sculpture]</td>\n",
       "      <td>Walker</td>\n",
       "      <td>Lin</td>\n",
       "      <td>333 Commerce Street, Nashville TN</td>\n",
       "      <td>NaN</td>\n",
       "      <td>Sculpture</td>\n",
       "      <td>NaN</td>\n",
       "      <td>36.16234</td>\n",
       "      <td>-86.77774</td>\n",
       "    </tr>\n",
       "  </tbody>\n",
       "</table>\n",
       "</div>"
      ],
      "text/plain": [
       "                             title    last  first  \\\n",
       "0          [Cross Country Runners]   Frost  Miley   \n",
       "1  [Fourth and Commerce Sculpture]  Walker    Lin   \n",
       "\n",
       "                                 loc     med       type desc       lat  \\\n",
       "0     4001 Harding Rd., Nashville TN  Bronze  Sculpture  NaN  36.12856   \n",
       "1  333 Commerce Street, Nashville TN     NaN  Sculpture  NaN  36.16234   \n",
       "\n",
       "        lng  \n",
       "0 -86.83660  \n",
       "1 -86.77774  "
      ]
     },
     "execution_count": 15,
     "metadata": {},
     "output_type": "execute_result"
    }
   ],
   "source": [
    "art.head(2)"
   ]
  },
  {
   "cell_type": "code",
   "execution_count": 16,
   "metadata": {},
   "outputs": [],
   "source": [
    "type_counts = art.type.value_counts()"
   ]
  },
  {
   "cell_type": "code",
   "execution_count": 17,
   "metadata": {},
   "outputs": [],
   "source": [
    "#make series a df\n",
    "type_counts = type_counts.to_frame()\n",
    "\n",
    "#reset index resets to 0-based index and moves existing index to a column\n",
    "type_counts = type_counts.reset_index()"
   ]
  },
  {
   "cell_type": "code",
   "execution_count": 18,
   "metadata": {},
   "outputs": [
    {
     "data": {
      "text/html": [
       "<div>\n",
       "<style scoped>\n",
       "    .dataframe tbody tr th:only-of-type {\n",
       "        vertical-align: middle;\n",
       "    }\n",
       "\n",
       "    .dataframe tbody tr th {\n",
       "        vertical-align: top;\n",
       "    }\n",
       "\n",
       "    .dataframe thead th {\n",
       "        text-align: right;\n",
       "    }\n",
       "</style>\n",
       "<table border=\"1\" class=\"dataframe\">\n",
       "  <thead>\n",
       "    <tr style=\"text-align: right;\">\n",
       "      <th></th>\n",
       "      <th>type</th>\n",
       "      <th>count</th>\n",
       "    </tr>\n",
       "  </thead>\n",
       "  <tbody>\n",
       "    <tr>\n",
       "      <th>0</th>\n",
       "      <td>Sculpture</td>\n",
       "      <td>61</td>\n",
       "    </tr>\n",
       "    <tr>\n",
       "      <th>1</th>\n",
       "      <td>Mural</td>\n",
       "      <td>38</td>\n",
       "    </tr>\n",
       "    <tr>\n",
       "      <th>2</th>\n",
       "      <td>Monument</td>\n",
       "      <td>16</td>\n",
       "    </tr>\n",
       "  </tbody>\n",
       "</table>\n",
       "</div>"
      ],
      "text/plain": [
       "        type  count\n",
       "0  Sculpture     61\n",
       "1      Mural     38\n",
       "2   Monument     16"
      ]
     },
     "execution_count": 18,
     "metadata": {},
     "output_type": "execute_result"
    }
   ],
   "source": [
    "type_counts.columns = ['type', 'count']\n",
    "type_counts.head(3)"
   ]
  },
  {
   "cell_type": "code",
   "execution_count": 19,
   "metadata": {},
   "outputs": [
    {
     "data": {
      "text/plain": [
       "pandas.core.frame.DataFrame"
      ]
     },
     "execution_count": 19,
     "metadata": {},
     "output_type": "execute_result"
    }
   ],
   "source": [
    "type(type_counts)"
   ]
  },
  {
   "cell_type": "code",
   "execution_count": 20,
   "metadata": {},
   "outputs": [
    {
     "data": {
      "text/html": [
       "<div>\n",
       "<style scoped>\n",
       "    .dataframe tbody tr th:only-of-type {\n",
       "        vertical-align: middle;\n",
       "    }\n",
       "\n",
       "    .dataframe tbody tr th {\n",
       "        vertical-align: top;\n",
       "    }\n",
       "\n",
       "    .dataframe thead th {\n",
       "        text-align: right;\n",
       "    }\n",
       "</style>\n",
       "<table border=\"1\" class=\"dataframe\">\n",
       "  <thead>\n",
       "    <tr style=\"text-align: right;\">\n",
       "      <th></th>\n",
       "      <th>count</th>\n",
       "    </tr>\n",
       "  </thead>\n",
       "  <tbody>\n",
       "    <tr>\n",
       "      <th>count</th>\n",
       "      <td>16.000000</td>\n",
       "    </tr>\n",
       "    <tr>\n",
       "      <th>mean</th>\n",
       "      <td>8.250000</td>\n",
       "    </tr>\n",
       "    <tr>\n",
       "      <th>std</th>\n",
       "      <td>17.043083</td>\n",
       "    </tr>\n",
       "    <tr>\n",
       "      <th>min</th>\n",
       "      <td>1.000000</td>\n",
       "    </tr>\n",
       "    <tr>\n",
       "      <th>25%</th>\n",
       "      <td>1.000000</td>\n",
       "    </tr>\n",
       "    <tr>\n",
       "      <th>50%</th>\n",
       "      <td>1.000000</td>\n",
       "    </tr>\n",
       "    <tr>\n",
       "      <th>75%</th>\n",
       "      <td>2.000000</td>\n",
       "    </tr>\n",
       "    <tr>\n",
       "      <th>max</th>\n",
       "      <td>61.000000</td>\n",
       "    </tr>\n",
       "  </tbody>\n",
       "</table>\n",
       "</div>"
      ],
      "text/plain": [
       "           count\n",
       "count  16.000000\n",
       "mean    8.250000\n",
       "std    17.043083\n",
       "min     1.000000\n",
       "25%     1.000000\n",
       "50%     1.000000\n",
       "75%     2.000000\n",
       "max    61.000000"
      ]
     },
     "execution_count": 20,
     "metadata": {},
     "output_type": "execute_result"
    }
   ],
   "source": [
    "type_counts.describe()"
   ]
  },
  {
   "cell_type": "code",
   "execution_count": 21,
   "metadata": {},
   "outputs": [
    {
     "name": "stdout",
     "output_type": "stream",
     "text": [
      "<class 'pandas.core.frame.DataFrame'>\n",
      "RangeIndex: 132 entries, 0 to 131\n",
      "Data columns (total 9 columns):\n",
      "title    132 non-null object\n",
      "last     132 non-null object\n",
      "first    122 non-null object\n",
      "loc      131 non-null object\n",
      "med      128 non-null object\n",
      "type     132 non-null object\n",
      "desc     87 non-null object\n",
      "lat      132 non-null float64\n",
      "lng      132 non-null float64\n",
      "dtypes: float64(2), object(7)\n",
      "memory usage: 9.4+ KB\n"
     ]
    }
   ],
   "source": [
    "art.info()"
   ]
  },
  {
   "cell_type": "code",
   "execution_count": 22,
   "metadata": {},
   "outputs": [
    {
     "data": {
      "text/plain": [
       "title     0\n",
       "last      0\n",
       "first    10\n",
       "loc       1\n",
       "med       4\n",
       "type      0\n",
       "desc     45\n",
       "lat       0\n",
       "lng       0\n",
       "dtype: int64"
      ]
     },
     "execution_count": 22,
     "metadata": {},
     "output_type": "execute_result"
    }
   ],
   "source": [
    "art.isnull().sum()"
   ]
  },
  {
   "cell_type": "markdown",
   "metadata": {},
   "source": [
    "### Simplest horizontal barplot using matplotlib.pyplot"
   ]
  },
  {
   "cell_type": "code",
   "execution_count": 23,
   "metadata": {},
   "outputs": [
    {
     "data": {
      "image/png": "[encoded data removed]",
      "text/plain": [
       "<Figure size 432x288 with 1 Axes>"
      ]
     },
     "metadata": {
      "needs_background": "light"
     },
     "output_type": "display_data"
    }
   ],
   "source": [
    "plt.barh('type', 'count', data=type_counts, color = 'green', edgecolor = 'black');"
   ]
  },
  {
   "cell_type": "markdown",
   "metadata": {},
   "source": [
    "### Fancier horizontal barplot with seaborn"
   ]
  },
  {
   "cell_type": "code",
   "execution_count": 24,
   "metadata": {},
   "outputs": [
    {
     "data": {
      "image/png": "[encoded data removed]",
      "text/plain": [
       "<Figure size 720x576 with 1 Axes>"
      ]
     },
     "metadata": {
      "needs_background": "light"
     },
     "output_type": "display_data"
    }
   ],
   "source": [
    "plt.figure(figsize = (10, 8))\n",
    "sns.set(style=\"whitegrid\")\n",
    "sns.barplot('count', 'type', data = type_counts)\n",
    "plt.xlabel('')\n",
    "plt.ylabel('')\n",
    "plt.title('Types of Public Art in Nashville');"
   ]
  },
  {
   "cell_type": "markdown",
   "metadata": {},
   "source": [
    "### Let's map the `art` types to fewer categories"
   ]
  },
  {
   "cell_type": "code",
   "execution_count": 25,
   "metadata": {},
   "outputs": [],
   "source": [
    "# map Frieze, Sculpture/Fountain, Fountain, and Relief to Sculpture\n",
    "# map Street Art, mural to Mural\n",
    "# map Bronzes to Monument\n",
    "\n",
    "art.type = art.type.map({'Sculpture': 'Sculpture', 'Mural': 'Mural', 'Frieze': 'Sculpture',\n",
    "             'Monument': 'Monument', 'Mobile': 'Mobile', 'Furniture': 'Furniture',\n",
    "             'Mosaic': 'Mosaic', 'Relief': 'Sculpture', 'Stained Glass': 'Stained Glass',\n",
    "             'Bronzes': 'Monument', 'Sculpture/Fountain': 'Sculpture',\n",
    "             'Various': 'Various', 'Street Art': 'Mural', 'mural': 'Mural',\n",
    "             'Fountain': 'Sculpture', 'Multipart': 'Multipart'})\n"
   ]
  },
  {
   "cell_type": "code",
   "execution_count": 26,
   "metadata": {},
   "outputs": [
    {
     "data": {
      "text/plain": [
       "array(['Sculpture', 'Mural', 'Monument', 'Mobile', 'Furniture', 'Mosaic',\n",
       "       'Stained Glass', 'Various', 'Multipart'], dtype=object)"
      ]
     },
     "execution_count": 26,
     "metadata": {},
     "output_type": "execute_result"
    }
   ],
   "source": [
    "art.type.unique()"
   ]
  },
  {
   "cell_type": "code",
   "execution_count": 27,
   "metadata": {},
   "outputs": [],
   "source": [
    "# create new type counts from the revised data\n",
    "type_counts_revised = art.type.value_counts()\n",
    "\n",
    "# make series a df\n",
    "type_counts_revised = type_counts_revised.to_frame()\n",
    "\n",
    "# reset index resets to 0-based index and moves existing index to a column\n",
    "type_counts_revised = type_counts_revised.reset_index()\n",
    "\n",
    "type_counts_revised.columns = ['type', 'count']\n"
   ]
  },
  {
   "cell_type": "code",
   "execution_count": 28,
   "metadata": {},
   "outputs": [
    {
     "data": {
      "text/html": [
       "<div>\n",
       "<style scoped>\n",
       "    .dataframe tbody tr th:only-of-type {\n",
       "        vertical-align: middle;\n",
       "    }\n",
       "\n",
       "    .dataframe tbody tr th {\n",
       "        vertical-align: top;\n",
       "    }\n",
       "\n",
       "    .dataframe thead th {\n",
       "        text-align: right;\n",
       "    }\n",
       "</style>\n",
       "<table border=\"1\" class=\"dataframe\">\n",
       "  <thead>\n",
       "    <tr style=\"text-align: right;\">\n",
       "      <th></th>\n",
       "      <th>type</th>\n",
       "      <th>count</th>\n",
       "    </tr>\n",
       "  </thead>\n",
       "  <tbody>\n",
       "    <tr>\n",
       "      <th>0</th>\n",
       "      <td>Sculpture</td>\n",
       "      <td>66</td>\n",
       "    </tr>\n",
       "    <tr>\n",
       "      <th>1</th>\n",
       "      <td>Mural</td>\n",
       "      <td>40</td>\n",
       "    </tr>\n",
       "  </tbody>\n",
       "</table>\n",
       "</div>"
      ],
      "text/plain": [
       "        type  count\n",
       "0  Sculpture     66\n",
       "1      Mural     40"
      ]
     },
     "execution_count": 28,
     "metadata": {},
     "output_type": "execute_result"
    }
   ],
   "source": [
    "type_counts_revised.head(2)"
   ]
  },
  {
   "cell_type": "markdown",
   "metadata": {},
   "source": [
    "### And redraw the horizontal barplot"
   ]
  },
  {
   "cell_type": "code",
   "execution_count": 29,
   "metadata": {
    "scrolled": false
   },
   "outputs": [
    {
     "data": {
      "image/png": "[encoded data removed]",
      "text/plain": [
       "<Figure size 576x432 with 1 Axes>"
      ]
     },
     "metadata": {},
     "output_type": "display_data"
    }
   ],
   "source": [
    "plt.figure(figsize = (8, 6))\n",
    "sns.set(style=\"whitegrid\")\n",
    "sns.barplot('count', 'type', data = type_counts_revised)\n",
    "plt.xlabel('')\n",
    "plt.ylabel('')\n",
    "plt.title('Types of Public Art in Nashville');"
   ]
  },
  {
   "cell_type": "markdown",
   "metadata": {},
   "source": [
    "### Steps to create an aggregated dataset:\n",
    " 1. Group by the columns you want to aggregate by with `df.groupby([col1, col2])`\n",
    " 2. Use the `.agg()` or `.size()` to get a count for groups\n",
    " 3. Keep the desired columns / drop the ones you don't need  \n",
    " 4. Rename columns (use `df.sort_values()` with `ascending = False` to put the largest value first\n",
    " "
   ]
  },
  {
   "cell_type": "code",
   "execution_count": 30,
   "metadata": {},
   "outputs": [],
   "source": [
    "# aggregate to get counts by type and artist\n",
    "aggregated_art = art.groupby(['type', 'last', 'first']).agg('count').reset_index()"
   ]
  },
  {
   "cell_type": "code",
   "execution_count": 31,
   "metadata": {},
   "outputs": [
    {
     "data": {
      "text/html": [
       "<div>\n",
       "<style scoped>\n",
       "    .dataframe tbody tr th:only-of-type {\n",
       "        vertical-align: middle;\n",
       "    }\n",
       "\n",
       "    .dataframe tbody tr th {\n",
       "        vertical-align: top;\n",
       "    }\n",
       "\n",
       "    .dataframe thead th {\n",
       "        text-align: right;\n",
       "    }\n",
       "</style>\n",
       "<table border=\"1\" class=\"dataframe\">\n",
       "  <thead>\n",
       "    <tr style=\"text-align: right;\">\n",
       "      <th></th>\n",
       "      <th>type</th>\n",
       "      <th>last</th>\n",
       "      <th>first</th>\n",
       "      <th>title</th>\n",
       "      <th>loc</th>\n",
       "      <th>med</th>\n",
       "      <th>desc</th>\n",
       "      <th>lat</th>\n",
       "      <th>lng</th>\n",
       "    </tr>\n",
       "  </thead>\n",
       "  <tbody>\n",
       "    <tr>\n",
       "      <th>0</th>\n",
       "      <td>Furniture</td>\n",
       "      <td>McGraw</td>\n",
       "      <td>Deloss</td>\n",
       "      <td>1</td>\n",
       "      <td>1</td>\n",
       "      <td>1</td>\n",
       "      <td>1</td>\n",
       "      <td>1</td>\n",
       "      <td>1</td>\n",
       "    </tr>\n",
       "    <tr>\n",
       "      <th>1</th>\n",
       "      <td>Mobile</td>\n",
       "      <td>Emery</td>\n",
       "      <td>Lin</td>\n",
       "      <td>1</td>\n",
       "      <td>1</td>\n",
       "      <td>1</td>\n",
       "      <td>1</td>\n",
       "      <td>1</td>\n",
       "      <td>1</td>\n",
       "    </tr>\n",
       "    <tr>\n",
       "      <th>2</th>\n",
       "      <td>Mobile</td>\n",
       "      <td>Outlaw</td>\n",
       "      <td>Adrienne</td>\n",
       "      <td>1</td>\n",
       "      <td>1</td>\n",
       "      <td>1</td>\n",
       "      <td>1</td>\n",
       "      <td>1</td>\n",
       "      <td>1</td>\n",
       "    </tr>\n",
       "    <tr>\n",
       "      <th>3</th>\n",
       "      <td>Monument</td>\n",
       "      <td>Faxon</td>\n",
       "      <td>Russell</td>\n",
       "      <td>1</td>\n",
       "      <td>1</td>\n",
       "      <td>1</td>\n",
       "      <td>1</td>\n",
       "      <td>1</td>\n",
       "      <td>1</td>\n",
       "    </tr>\n",
       "    <tr>\n",
       "      <th>4</th>\n",
       "      <td>Monument</td>\n",
       "      <td>Gelert and Cottrell</td>\n",
       "      <td>S. Johannes and W.L.</td>\n",
       "      <td>1</td>\n",
       "      <td>1</td>\n",
       "      <td>1</td>\n",
       "      <td>0</td>\n",
       "      <td>1</td>\n",
       "      <td>1</td>\n",
       "    </tr>\n",
       "    <tr>\n",
       "      <th>5</th>\n",
       "      <td>Monument</td>\n",
       "      <td>Grey</td>\n",
       "      <td>Jim</td>\n",
       "      <td>1</td>\n",
       "      <td>1</td>\n",
       "      <td>1</td>\n",
       "      <td>0</td>\n",
       "      <td>1</td>\n",
       "      <td>1</td>\n",
       "    </tr>\n",
       "    <tr>\n",
       "      <th>6</th>\n",
       "      <td>Monument</td>\n",
       "      <td>LeQuire</td>\n",
       "      <td>Alan</td>\n",
       "      <td>2</td>\n",
       "      <td>2</td>\n",
       "      <td>2</td>\n",
       "      <td>2</td>\n",
       "      <td>2</td>\n",
       "      <td>2</td>\n",
       "    </tr>\n",
       "    <tr>\n",
       "      <th>7</th>\n",
       "      <td>Monument</td>\n",
       "      <td>Moretti</td>\n",
       "      <td>Giuseppe</td>\n",
       "      <td>1</td>\n",
       "      <td>1</td>\n",
       "      <td>1</td>\n",
       "      <td>1</td>\n",
       "      <td>1</td>\n",
       "      <td>1</td>\n",
       "    </tr>\n",
       "    <tr>\n",
       "      <th>8</th>\n",
       "      <td>Monument</td>\n",
       "      <td>Nicoll</td>\n",
       "      <td>Carlo</td>\n",
       "      <td>1</td>\n",
       "      <td>1</td>\n",
       "      <td>1</td>\n",
       "      <td>0</td>\n",
       "      <td>1</td>\n",
       "      <td>1</td>\n",
       "    </tr>\n",
       "    <tr>\n",
       "      <th>9</th>\n",
       "      <td>Monument</td>\n",
       "      <td>Unknown</td>\n",
       "      <td>Unknown</td>\n",
       "      <td>2</td>\n",
       "      <td>2</td>\n",
       "      <td>2</td>\n",
       "      <td>0</td>\n",
       "      <td>2</td>\n",
       "      <td>2</td>\n",
       "    </tr>\n",
       "    <tr>\n",
       "      <th>10</th>\n",
       "      <td>Monument</td>\n",
       "      <td>Various</td>\n",
       "      <td>Various</td>\n",
       "      <td>1</td>\n",
       "      <td>1</td>\n",
       "      <td>1</td>\n",
       "      <td>0</td>\n",
       "      <td>1</td>\n",
       "      <td>1</td>\n",
       "    </tr>\n",
       "    <tr>\n",
       "      <th>11</th>\n",
       "      <td>Monument</td>\n",
       "      <td>Vichy</td>\n",
       "      <td>F.</td>\n",
       "      <td>1</td>\n",
       "      <td>1</td>\n",
       "      <td>1</td>\n",
       "      <td>0</td>\n",
       "      <td>1</td>\n",
       "      <td>1</td>\n",
       "    </tr>\n",
       "    <tr>\n",
       "      <th>12</th>\n",
       "      <td>Monument</td>\n",
       "      <td>Yandell</td>\n",
       "      <td>Enid</td>\n",
       "      <td>1</td>\n",
       "      <td>1</td>\n",
       "      <td>1</td>\n",
       "      <td>1</td>\n",
       "      <td>1</td>\n",
       "      <td>1</td>\n",
       "    </tr>\n",
       "    <tr>\n",
       "      <th>13</th>\n",
       "      <td>Monument</td>\n",
       "      <td>Zolnay</td>\n",
       "      <td>George Julian</td>\n",
       "      <td>3</td>\n",
       "      <td>3</td>\n",
       "      <td>3</td>\n",
       "      <td>3</td>\n",
       "      <td>3</td>\n",
       "      <td>3</td>\n",
       "    </tr>\n",
       "    <tr>\n",
       "      <th>14</th>\n",
       "      <td>Mosaic</td>\n",
       "      <td>Hunter</td>\n",
       "      <td>Sherri Warner</td>\n",
       "      <td>1</td>\n",
       "      <td>1</td>\n",
       "      <td>1</td>\n",
       "      <td>1</td>\n",
       "      <td>1</td>\n",
       "      <td>1</td>\n",
       "    </tr>\n",
       "    <tr>\n",
       "      <th>15</th>\n",
       "      <td>Mosaic</td>\n",
       "      <td>Neighborhood children supervised by artists Mi...</td>\n",
       "      <td>Neighborhood children supervised by artists Mi...</td>\n",
       "      <td>1</td>\n",
       "      <td>1</td>\n",
       "      <td>1</td>\n",
       "      <td>0</td>\n",
       "      <td>1</td>\n",
       "      <td>1</td>\n",
       "    </tr>\n",
       "    <tr>\n",
       "      <th>16</th>\n",
       "      <td>Multipart</td>\n",
       "      <td>Parrish</td>\n",
       "      <td>Frank</td>\n",
       "      <td>1</td>\n",
       "      <td>1</td>\n",
       "      <td>1</td>\n",
       "      <td>1</td>\n",
       "      <td>1</td>\n",
       "      <td>1</td>\n",
       "    </tr>\n",
       "    <tr>\n",
       "      <th>17</th>\n",
       "      <td>Mural</td>\n",
       "      <td>Cooper</td>\n",
       "      <td>Michael</td>\n",
       "      <td>6</td>\n",
       "      <td>6</td>\n",
       "      <td>6</td>\n",
       "      <td>5</td>\n",
       "      <td>6</td>\n",
       "      <td>6</td>\n",
       "    </tr>\n",
       "    <tr>\n",
       "      <th>18</th>\n",
       "      <td>Mural</td>\n",
       "      <td>Deese</td>\n",
       "      <td>Bryan</td>\n",
       "      <td>2</td>\n",
       "      <td>2</td>\n",
       "      <td>2</td>\n",
       "      <td>2</td>\n",
       "      <td>2</td>\n",
       "      <td>2</td>\n",
       "    </tr>\n",
       "    <tr>\n",
       "      <th>19</th>\n",
       "      <td>Mural</td>\n",
       "      <td>Guion</td>\n",
       "      <td>Scott</td>\n",
       "      <td>1</td>\n",
       "      <td>1</td>\n",
       "      <td>1</td>\n",
       "      <td>1</td>\n",
       "      <td>1</td>\n",
       "      <td>1</td>\n",
       "    </tr>\n",
       "    <tr>\n",
       "      <th>20</th>\n",
       "      <td>Mural</td>\n",
       "      <td>Haas</td>\n",
       "      <td>Richard</td>\n",
       "      <td>1</td>\n",
       "      <td>1</td>\n",
       "      <td>1</td>\n",
       "      <td>1</td>\n",
       "      <td>1</td>\n",
       "      <td>1</td>\n",
       "    </tr>\n",
       "    <tr>\n",
       "      <th>21</th>\n",
       "      <td>Mural</td>\n",
       "      <td>Healing Arts Project, Inc.</td>\n",
       "      <td>Healing Arts Project</td>\n",
       "      <td>1</td>\n",
       "      <td>1</td>\n",
       "      <td>1</td>\n",
       "      <td>1</td>\n",
       "      <td>1</td>\n",
       "      <td>1</td>\n",
       "    </tr>\n",
       "    <tr>\n",
       "      <th>22</th>\n",
       "      <td>Mural</td>\n",
       "      <td>Hughes</td>\n",
       "      <td>Milree</td>\n",
       "      <td>1</td>\n",
       "      <td>1</td>\n",
       "      <td>1</td>\n",
       "      <td>0</td>\n",
       "      <td>1</td>\n",
       "      <td>1</td>\n",
       "    </tr>\n",
       "    <tr>\n",
       "      <th>23</th>\n",
       "      <td>Mural</td>\n",
       "      <td>Kennedy</td>\n",
       "      <td>Kim</td>\n",
       "      <td>1</td>\n",
       "      <td>1</td>\n",
       "      <td>1</td>\n",
       "      <td>1</td>\n",
       "      <td>1</td>\n",
       "      <td>1</td>\n",
       "    </tr>\n",
       "    <tr>\n",
       "      <th>24</th>\n",
       "      <td>Mural</td>\n",
       "      <td>Martin</td>\n",
       "      <td>Shantell</td>\n",
       "      <td>1</td>\n",
       "      <td>1</td>\n",
       "      <td>1</td>\n",
       "      <td>1</td>\n",
       "      <td>1</td>\n",
       "      <td>1</td>\n",
       "    </tr>\n",
       "    <tr>\n",
       "      <th>25</th>\n",
       "      <td>Mural</td>\n",
       "      <td>Prado</td>\n",
       "      <td>Jairo</td>\n",
       "      <td>1</td>\n",
       "      <td>1</td>\n",
       "      <td>1</td>\n",
       "      <td>1</td>\n",
       "      <td>1</td>\n",
       "      <td>1</td>\n",
       "    </tr>\n",
       "    <tr>\n",
       "      <th>26</th>\n",
       "      <td>Mural</td>\n",
       "      <td>Prestwod</td>\n",
       "      <td>Seth</td>\n",
       "      <td>1</td>\n",
       "      <td>1</td>\n",
       "      <td>1</td>\n",
       "      <td>1</td>\n",
       "      <td>1</td>\n",
       "      <td>1</td>\n",
       "    </tr>\n",
       "    <tr>\n",
       "      <th>27</th>\n",
       "      <td>Mural</td>\n",
       "      <td>Purcell</td>\n",
       "      <td>Randy</td>\n",
       "      <td>1</td>\n",
       "      <td>1</td>\n",
       "      <td>1</td>\n",
       "      <td>1</td>\n",
       "      <td>1</td>\n",
       "      <td>1</td>\n",
       "    </tr>\n",
       "    <tr>\n",
       "      <th>28</th>\n",
       "      <td>Mural</td>\n",
       "      <td>Randolf and Glick</td>\n",
       "      <td>Adam and David</td>\n",
       "      <td>1</td>\n",
       "      <td>1</td>\n",
       "      <td>1</td>\n",
       "      <td>0</td>\n",
       "      <td>1</td>\n",
       "      <td>1</td>\n",
       "    </tr>\n",
       "    <tr>\n",
       "      <th>29</th>\n",
       "      <td>Mural</td>\n",
       "      <td>Rudloff</td>\n",
       "      <td>Andee</td>\n",
       "      <td>6</td>\n",
       "      <td>6</td>\n",
       "      <td>6</td>\n",
       "      <td>0</td>\n",
       "      <td>6</td>\n",
       "      <td>6</td>\n",
       "    </tr>\n",
       "    <tr>\n",
       "      <th>30</th>\n",
       "      <td>Mural</td>\n",
       "      <td>Saporiti</td>\n",
       "      <td>Adrien</td>\n",
       "      <td>5</td>\n",
       "      <td>5</td>\n",
       "      <td>5</td>\n",
       "      <td>5</td>\n",
       "      <td>5</td>\n",
       "      <td>5</td>\n",
       "    </tr>\n",
       "    <tr>\n",
       "      <th>31</th>\n",
       "      <td>Mural</td>\n",
       "      <td>Stevenson and Stanley and ROFF (Harroff)</td>\n",
       "      <td>Doug and Ronnica and Lynn</td>\n",
       "      <td>1</td>\n",
       "      <td>1</td>\n",
       "      <td>1</td>\n",
       "      <td>1</td>\n",
       "      <td>1</td>\n",
       "      <td>1</td>\n",
       "    </tr>\n",
       "    <tr>\n",
       "      <th>32</th>\n",
       "      <td>Mural</td>\n",
       "      <td>Ulibarri</td>\n",
       "      <td>Jerry</td>\n",
       "      <td>1</td>\n",
       "      <td>1</td>\n",
       "      <td>1</td>\n",
       "      <td>1</td>\n",
       "      <td>1</td>\n",
       "      <td>1</td>\n",
       "    </tr>\n",
       "    <tr>\n",
       "      <th>33</th>\n",
       "      <td>Mural</td>\n",
       "      <td>Unknown</td>\n",
       "      <td>Unknown</td>\n",
       "      <td>1</td>\n",
       "      <td>0</td>\n",
       "      <td>1</td>\n",
       "      <td>1</td>\n",
       "      <td>1</td>\n",
       "      <td>1</td>\n",
       "    </tr>\n",
       "    <tr>\n",
       "      <th>34</th>\n",
       "      <td>Mural</td>\n",
       "      <td>Williams</td>\n",
       "      <td>Herb</td>\n",
       "      <td>1</td>\n",
       "      <td>1</td>\n",
       "      <td>1</td>\n",
       "      <td>1</td>\n",
       "      <td>1</td>\n",
       "      <td>1</td>\n",
       "    </tr>\n",
       "    <tr>\n",
       "      <th>35</th>\n",
       "      <td>Sculpture</td>\n",
       "      <td>Bennyworth</td>\n",
       "      <td>Steve</td>\n",
       "      <td>1</td>\n",
       "      <td>1</td>\n",
       "      <td>1</td>\n",
       "      <td>0</td>\n",
       "      <td>1</td>\n",
       "      <td>1</td>\n",
       "    </tr>\n",
       "    <tr>\n",
       "      <th>36</th>\n",
       "      <td>Sculpture</td>\n",
       "      <td>Bloomer</td>\n",
       "      <td>Kent</td>\n",
       "      <td>1</td>\n",
       "      <td>1</td>\n",
       "      <td>1</td>\n",
       "      <td>1</td>\n",
       "      <td>1</td>\n",
       "      <td>1</td>\n",
       "    </tr>\n",
       "    <tr>\n",
       "      <th>37</th>\n",
       "      <td>Sculpture</td>\n",
       "      <td>Cornwell</td>\n",
       "      <td>Dean</td>\n",
       "      <td>1</td>\n",
       "      <td>1</td>\n",
       "      <td>1</td>\n",
       "      <td>1</td>\n",
       "      <td>1</td>\n",
       "      <td>1</td>\n",
       "    </tr>\n",
       "    <tr>\n",
       "      <th>38</th>\n",
       "      <td>Sculpture</td>\n",
       "      <td>Cox-McCormack</td>\n",
       "      <td>Nancy</td>\n",
       "      <td>1</td>\n",
       "      <td>1</td>\n",
       "      <td>1</td>\n",
       "      <td>1</td>\n",
       "      <td>1</td>\n",
       "      <td>1</td>\n",
       "    </tr>\n",
       "    <tr>\n",
       "      <th>39</th>\n",
       "      <td>Sculpture</td>\n",
       "      <td>Eldred</td>\n",
       "      <td>Dale</td>\n",
       "      <td>1</td>\n",
       "      <td>1</td>\n",
       "      <td>1</td>\n",
       "      <td>1</td>\n",
       "      <td>1</td>\n",
       "      <td>1</td>\n",
       "    </tr>\n",
       "    <tr>\n",
       "      <th>40</th>\n",
       "      <td>Sculpture</td>\n",
       "      <td>Eskridge</td>\n",
       "      <td>Casey</td>\n",
       "      <td>1</td>\n",
       "      <td>1</td>\n",
       "      <td>1</td>\n",
       "      <td>1</td>\n",
       "      <td>1</td>\n",
       "      <td>1</td>\n",
       "    </tr>\n",
       "    <tr>\n",
       "      <th>41</th>\n",
       "      <td>Sculpture</td>\n",
       "      <td>Faxon</td>\n",
       "      <td>Russell</td>\n",
       "      <td>9</td>\n",
       "      <td>9</td>\n",
       "      <td>9</td>\n",
       "      <td>5</td>\n",
       "      <td>9</td>\n",
       "      <td>9</td>\n",
       "    </tr>\n",
       "  </tbody>\n",
       "</table>\n",
       "</div>"
      ],
      "text/plain": [
       "         type                                               last  \\\n",
       "0   Furniture                                             McGraw   \n",
       "1      Mobile                                              Emery   \n",
       "2      Mobile                                             Outlaw   \n",
       "3    Monument                                              Faxon   \n",
       "4    Monument                                Gelert and Cottrell   \n",
       "5    Monument                                               Grey   \n",
       "6    Monument                                            LeQuire   \n",
       "7    Monument                                            Moretti   \n",
       "8    Monument                                             Nicoll   \n",
       "9    Monument                                            Unknown   \n",
       "10   Monument                                            Various   \n",
       "11   Monument                                              Vichy   \n",
       "12   Monument                                            Yandell   \n",
       "13   Monument                                             Zolnay   \n",
       "14     Mosaic                                             Hunter   \n",
       "15     Mosaic  Neighborhood children supervised by artists Mi...   \n",
       "16  Multipart                                            Parrish   \n",
       "17      Mural                                             Cooper   \n",
       "18      Mural                                              Deese   \n",
       "19      Mural                                              Guion   \n",
       "20      Mural                                               Haas   \n",
       "21      Mural                         Healing Arts Project, Inc.   \n",
       "22      Mural                                             Hughes   \n",
       "23      Mural                                            Kennedy   \n",
       "24      Mural                                             Martin   \n",
       "25      Mural                                              Prado   \n",
       "26      Mural                                           Prestwod   \n",
       "27      Mural                                            Purcell   \n",
       "28      Mural                                  Randolf and Glick   \n",
       "29      Mural                                            Rudloff   \n",
       "30      Mural                                           Saporiti   \n",
       "31      Mural           Stevenson and Stanley and ROFF (Harroff)   \n",
       "32      Mural                                           Ulibarri   \n",
       "33      Mural                                            Unknown   \n",
       "34      Mural                                           Williams   \n",
       "35  Sculpture                                         Bennyworth   \n",
       "36  Sculpture                                            Bloomer   \n",
       "37  Sculpture                                           Cornwell   \n",
       "38  Sculpture                                      Cox-McCormack   \n",
       "39  Sculpture                                             Eldred   \n",
       "40  Sculpture                                           Eskridge   \n",
       "41  Sculpture                                              Faxon   \n",
       "\n",
       "                                                first  title  loc  med  desc  \\\n",
       "0                                              Deloss      1    1    1     1   \n",
       "1                                                 Lin      1    1    1     1   \n",
       "2                                            Adrienne      1    1    1     1   \n",
       "3                                             Russell      1    1    1     1   \n",
       "4                                S. Johannes and W.L.      1    1    1     0   \n",
       "5                                                 Jim      1    1    1     0   \n",
       "6                                                Alan      2    2    2     2   \n",
       "7                                            Giuseppe      1    1    1     1   \n",
       "8                                               Carlo      1    1    1     0   \n",
       "9                                             Unknown      2    2    2     0   \n",
       "10                                            Various      1    1    1     0   \n",
       "11                                                 F.      1    1    1     0   \n",
       "12                                               Enid      1    1    1     1   \n",
       "13                                      George Julian      3    3    3     3   \n",
       "14                                      Sherri Warner      1    1    1     1   \n",
       "15  Neighborhood children supervised by artists Mi...      1    1    1     0   \n",
       "16                                              Frank      1    1    1     1   \n",
       "17                                            Michael      6    6    6     5   \n",
       "18                                              Bryan      2    2    2     2   \n",
       "19                                              Scott      1    1    1     1   \n",
       "20                                            Richard      1    1    1     1   \n",
       "21                               Healing Arts Project      1    1    1     1   \n",
       "22                                             Milree      1    1    1     0   \n",
       "23                                                Kim      1    1    1     1   \n",
       "24                                           Shantell      1    1    1     1   \n",
       "25                                              Jairo      1    1    1     1   \n",
       "26                                               Seth      1    1    1     1   \n",
       "27                                              Randy      1    1    1     1   \n",
       "28                                     Adam and David      1    1    1     0   \n",
       "29                                              Andee      6    6    6     0   \n",
       "30                                             Adrien      5    5    5     5   \n",
       "31                          Doug and Ronnica and Lynn      1    1    1     1   \n",
       "32                                              Jerry      1    1    1     1   \n",
       "33                                            Unknown      1    0    1     1   \n",
       "34                                               Herb      1    1    1     1   \n",
       "35                                              Steve      1    1    1     0   \n",
       "36                                               Kent      1    1    1     1   \n",
       "37                                               Dean      1    1    1     1   \n",
       "38                                              Nancy      1    1    1     1   \n",
       "39                                               Dale      1    1    1     1   \n",
       "40                                              Casey      1    1    1     1   \n",
       "41                                            Russell      9    9    9     5   \n",
       "\n",
       "    lat  lng  \n",
       "0     1    1  \n",
       "1     1    1  \n",
       "2     1    1  \n",
       "3     1    1  \n",
       "4     1    1  \n",
       "5     1    1  \n",
       "6     2    2  \n",
       "7     1    1  \n",
       "8     1    1  \n",
       "9     2    2  \n",
       "10    1    1  \n",
       "11    1    1  \n",
       "12    1    1  \n",
       "13    3    3  \n",
       "14    1    1  \n",
       "15    1    1  \n",
       "16    1    1  \n",
       "17    6    6  \n",
       "18    2    2  \n",
       "19    1    1  \n",
       "20    1    1  \n",
       "21    1    1  \n",
       "22    1    1  \n",
       "23    1    1  \n",
       "24    1    1  \n",
       "25    1    1  \n",
       "26    1    1  \n",
       "27    1    1  \n",
       "28    1    1  \n",
       "29    6    6  \n",
       "30    5    5  \n",
       "31    1    1  \n",
       "32    1    1  \n",
       "33    1    1  \n",
       "34    1    1  \n",
       "35    1    1  \n",
       "36    1    1  \n",
       "37    1    1  \n",
       "38    1    1  \n",
       "39    1    1  \n",
       "40    1    1  \n",
       "41    9    9  "
      ]
     },
     "execution_count": 31,
     "metadata": {},
     "output_type": "execute_result"
    }
   ],
   "source": [
    "aggregated_art.head(42)"
   ]
  },
  {
   "cell_type": "code",
   "execution_count": 32,
   "metadata": {},
   "outputs": [
    {
     "data": {
      "text/html": [
       "<div>\n",
       "<style scoped>\n",
       "    .dataframe tbody tr th:only-of-type {\n",
       "        vertical-align: middle;\n",
       "    }\n",
       "\n",
       "    .dataframe tbody tr th {\n",
       "        vertical-align: top;\n",
       "    }\n",
       "\n",
       "    .dataframe thead th {\n",
       "        text-align: right;\n",
       "    }\n",
       "</style>\n",
       "<table border=\"1\" class=\"dataframe\">\n",
       "  <thead>\n",
       "    <tr style=\"text-align: right;\">\n",
       "      <th></th>\n",
       "      <th>type</th>\n",
       "      <th>last_name</th>\n",
       "      <th>first_name</th>\n",
       "      <th>art_count</th>\n",
       "    </tr>\n",
       "  </thead>\n",
       "  <tbody>\n",
       "    <tr>\n",
       "      <th>41</th>\n",
       "      <td>Sculpture</td>\n",
       "      <td>Faxon</td>\n",
       "      <td>Russell</td>\n",
       "      <td>9</td>\n",
       "    </tr>\n",
       "    <tr>\n",
       "      <th>58</th>\n",
       "      <td>Sculpture</td>\n",
       "      <td>Mims</td>\n",
       "      <td>Puryear</td>\n",
       "      <td>6</td>\n",
       "    </tr>\n",
       "    <tr>\n",
       "      <th>29</th>\n",
       "      <td>Mural</td>\n",
       "      <td>Rudloff</td>\n",
       "      <td>Andee</td>\n",
       "      <td>6</td>\n",
       "    </tr>\n",
       "    <tr>\n",
       "      <th>17</th>\n",
       "      <td>Mural</td>\n",
       "      <td>Cooper</td>\n",
       "      <td>Michael</td>\n",
       "      <td>6</td>\n",
       "    </tr>\n",
       "    <tr>\n",
       "      <th>52</th>\n",
       "      <td>Sculpture</td>\n",
       "      <td>LeQuire</td>\n",
       "      <td>Alan</td>\n",
       "      <td>6</td>\n",
       "    </tr>\n",
       "  </tbody>\n",
       "</table>\n",
       "</div>"
      ],
      "text/plain": [
       "         type last_name first_name  art_count\n",
       "41  Sculpture     Faxon    Russell          9\n",
       "58  Sculpture      Mims    Puryear          6\n",
       "29      Mural   Rudloff      Andee          6\n",
       "17      Mural    Cooper    Michael          6\n",
       "52  Sculpture   LeQuire       Alan          6"
      ]
     },
     "execution_count": 32,
     "metadata": {},
     "output_type": "execute_result"
    }
   ],
   "source": [
    "aggregated_art = aggregated_art.iloc[0:,0:4]   \n",
    "aggregated_art.columns = ['type', 'last_name', 'first_name','art_count']\n",
    "aggregated_art = aggregated_art.sort_values('art_count', ascending = False)\n",
    "aggregated_art.head()"
   ]
  },
  {
   "cell_type": "code",
   "execution_count": 33,
   "metadata": {},
   "outputs": [
    {
     "data": {
      "text/plain": [
       "(15, 4)"
      ]
     },
     "execution_count": 33,
     "metadata": {},
     "output_type": "execute_result"
    }
   ],
   "source": [
    "multiple_works = aggregated_art.loc[aggregated_art.art_count > 1]\n",
    "multiple_works.shape"
   ]
  },
  {
   "cell_type": "code",
   "execution_count": 34,
   "metadata": {},
   "outputs": [
    {
     "data": {
      "text/html": [
       "<div>\n",
       "<style scoped>\n",
       "    .dataframe tbody tr th:only-of-type {\n",
       "        vertical-align: middle;\n",
       "    }\n",
       "\n",
       "    .dataframe tbody tr th {\n",
       "        vertical-align: top;\n",
       "    }\n",
       "\n",
       "    .dataframe thead th {\n",
       "        text-align: right;\n",
       "    }\n",
       "</style>\n",
       "<table border=\"1\" class=\"dataframe\">\n",
       "  <thead>\n",
       "    <tr style=\"text-align: right;\">\n",
       "      <th></th>\n",
       "      <th>type</th>\n",
       "      <th>last_name</th>\n",
       "      <th>first_name</th>\n",
       "      <th>art_count</th>\n",
       "    </tr>\n",
       "  </thead>\n",
       "  <tbody>\n",
       "    <tr>\n",
       "      <th>41</th>\n",
       "      <td>Sculpture</td>\n",
       "      <td>Faxon</td>\n",
       "      <td>Russell</td>\n",
       "      <td>9</td>\n",
       "    </tr>\n",
       "    <tr>\n",
       "      <th>58</th>\n",
       "      <td>Sculpture</td>\n",
       "      <td>Mims</td>\n",
       "      <td>Puryear</td>\n",
       "      <td>6</td>\n",
       "    </tr>\n",
       "    <tr>\n",
       "      <th>29</th>\n",
       "      <td>Mural</td>\n",
       "      <td>Rudloff</td>\n",
       "      <td>Andee</td>\n",
       "      <td>6</td>\n",
       "    </tr>\n",
       "    <tr>\n",
       "      <th>17</th>\n",
       "      <td>Mural</td>\n",
       "      <td>Cooper</td>\n",
       "      <td>Michael</td>\n",
       "      <td>6</td>\n",
       "    </tr>\n",
       "    <tr>\n",
       "      <th>52</th>\n",
       "      <td>Sculpture</td>\n",
       "      <td>LeQuire</td>\n",
       "      <td>Alan</td>\n",
       "      <td>6</td>\n",
       "    </tr>\n",
       "  </tbody>\n",
       "</table>\n",
       "</div>"
      ],
      "text/plain": [
       "         type last_name first_name  art_count\n",
       "41  Sculpture     Faxon    Russell          9\n",
       "58  Sculpture      Mims    Puryear          6\n",
       "29      Mural   Rudloff      Andee          6\n",
       "17      Mural    Cooper    Michael          6\n",
       "52  Sculpture   LeQuire       Alan          6"
      ]
     },
     "execution_count": 34,
     "metadata": {},
     "output_type": "execute_result"
    }
   ],
   "source": [
    "multiple_works.head()"
   ]
  },
  {
   "cell_type": "markdown",
   "metadata": {},
   "source": [
    "### Creating a facet grid with seaborn\n",
    "- set style if desired\n",
    "- draw the grid\n",
    "- map a plot to the grid"
   ]
  },
  {
   "cell_type": "code",
   "execution_count": 35,
   "metadata": {},
   "outputs": [
    {
     "data": {
      "image/png": "[encoded data removed]",
      "text/plain": [
       "<Figure size 1438.28x648 with 9 Axes>"
      ]
     },
     "metadata": {},
     "output_type": "display_data"
    }
   ],
   "source": [
    "sns.set(style=\"ticks\")\n",
    "\n",
    "\n",
    "# Initialize a grid of plots with a column for each art type\n",
    "grid = sns.FacetGrid(aggregated_art, \n",
    "                     col=\"type\", hue=\"last_name\", col_wrap=3)\n",
    "\n",
    "# Draw a plot to show the trajectory of each country\n",
    "grid.map(plt.bar, \"type\", \"art_count\")\n",
    "grid.add_legend(ncol = 2, title = 'Artist');"
   ]
  },
  {
   "cell_type": "markdown",
   "metadata": {
    "collapsed": true
   },
   "source": [
    "### Markdown Basics  \n",
    "<H3 style = \"color: darkgreen;\" > You can also use HTML for more advanced features! </H3>\n",
    "\n",
    "\n",
    "\n",
    "_italics_   \n",
    "*italics*  \n",
    "\n",
    "__bold__  \n",
    "**bold**\n",
    "\n",
    " - list item1  \n",
    " - list item2  \n",
    " \n",
    "  \n",
    " 2. ordered item1  \n",
    " 1. ordered item2  \n",
    " \n",
    "\n",
    "Here's a link to a helpful [markdown guide](https://www.markdownguide.org/basic-syntax).  \n",
    "And another link to helpful **[HTML tags](https://www.w3schools.com/tags/)**."
   ]
  },
  {
   "cell_type": "code",
   "execution_count": null,
   "metadata": {},
   "outputs": [],
   "source": []
  }
 ],
 "metadata": {
  "kernelspec": {
   "display_name": "Python 3",
   "language": "python",
   "name": "python3"
  },
  "language_info": {
   "codemirror_mode": {
    "name": "ipython",
    "version": 3
   },
   "file_extension": ".py",
   "mimetype": "text/x-python",
   "name": "python",
   "nbconvert_exporter": "python",
   "pygments_lexer": "ipython3",
   "version": "3.7.2"
  }
 },
 "nbformat": 4,
 "nbformat_minor": 2
}
